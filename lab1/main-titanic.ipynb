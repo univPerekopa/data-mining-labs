{
 "cells": [
  {
   "cell_type": "code",
   "execution_count": 10,
   "metadata": {},
   "outputs": [],
   "source": [
    "import pandas as pd\n",
    "import numpy as np\n",
    "import time\n",
    "import matplotlib.pyplot as plt\n",
    "from sklearn.model_selection import train_test_split\n",
    "from sklearn.metrics import accuracy_score\n",
    "from sklearn.naive_bayes import CategoricalNB\n",
    "from sklearn.tree import DecisionTreeClassifier as DT\n",
    "from sklearn.neighbors import KNeighborsClassifier"
   ]
  },
  {
   "cell_type": "code",
   "execution_count": 11,
   "metadata": {},
   "outputs": [
    {
     "data": {
      "text/html": [
       "<div>\n",
       "<style scoped>\n",
       "    .dataframe tbody tr th:only-of-type {\n",
       "        vertical-align: middle;\n",
       "    }\n",
       "\n",
       "    .dataframe tbody tr th {\n",
       "        vertical-align: top;\n",
       "    }\n",
       "\n",
       "    .dataframe thead th {\n",
       "        text-align: right;\n",
       "    }\n",
       "</style>\n",
       "<table border=\"1\" class=\"dataframe\">\n",
       "  <thead>\n",
       "    <tr style=\"text-align: right;\">\n",
       "      <th></th>\n",
       "      <th>pclass</th>\n",
       "      <th>gender</th>\n",
       "      <th>family</th>\n",
       "      <th>embarked</th>\n",
       "      <th>survived</th>\n",
       "    </tr>\n",
       "  </thead>\n",
       "  <tbody>\n",
       "    <tr>\n",
       "      <th>2</th>\n",
       "      <td>3</td>\n",
       "      <td>male</td>\n",
       "      <td>2.0</td>\n",
       "      <td>S</td>\n",
       "      <td>0</td>\n",
       "    </tr>\n",
       "    <tr>\n",
       "      <th>4</th>\n",
       "      <td>3</td>\n",
       "      <td>female</td>\n",
       "      <td>2.0</td>\n",
       "      <td>S</td>\n",
       "      <td>1</td>\n",
       "    </tr>\n",
       "    <tr>\n",
       "      <th>5</th>\n",
       "      <td>3</td>\n",
       "      <td>female</td>\n",
       "      <td>0.0</td>\n",
       "      <td>S</td>\n",
       "      <td>1</td>\n",
       "    </tr>\n",
       "    <tr>\n",
       "      <th>6</th>\n",
       "      <td>3</td>\n",
       "      <td>male</td>\n",
       "      <td>0.0</td>\n",
       "      <td>S</td>\n",
       "      <td>1</td>\n",
       "    </tr>\n",
       "    <tr>\n",
       "      <th>7</th>\n",
       "      <td>2</td>\n",
       "      <td>male</td>\n",
       "      <td>1.0</td>\n",
       "      <td>C</td>\n",
       "      <td>0</td>\n",
       "    </tr>\n",
       "  </tbody>\n",
       "</table>\n",
       "</div>"
      ],
      "text/plain": [
       "   pclass  gender  family embarked  survived\n",
       "2       3    male     2.0        S         0\n",
       "4       3  female     2.0        S         1\n",
       "5       3  female     0.0        S         1\n",
       "6       3    male     0.0        S         1\n",
       "7       2    male     1.0        C         0"
      ]
     },
     "execution_count": 11,
     "metadata": {},
     "output_type": "execute_result"
    }
   ],
   "source": [
    "file_path = 'datasets/The titanic dataset.csv'\n",
    "df = pd.read_csv(file_path)\n",
    "df = df[['pclass', 'gender', 'family', 'embarked', 'survived']]\n",
    "\n",
    "df = df[df.isna().any(axis=1) == False]\n",
    "df.head()"
   ]
  },
  {
   "cell_type": "code",
   "execution_count": 12,
   "metadata": {},
   "outputs": [
    {
     "name": "stderr",
     "output_type": "stream",
     "text": [
      "/var/folders/yt/ljnl7_9n7ngd_hbytypzcjyw0000gn/T/ipykernel_98227/3350034170.py:4: SettingWithCopyWarning: \n",
      "A value is trying to be set on a copy of a slice from a DataFrame.\n",
      "Try using .loc[row_indexer,col_indexer] = value instead\n",
      "\n",
      "See the caveats in the documentation: https://pandas.pydata.org/pandas-docs/stable/user_guide/indexing.html#returning-a-view-versus-a-copy\n",
      "  X['gender'] = X['gender'].map({'male': 0, 'female': 1})\n",
      "/var/folders/yt/ljnl7_9n7ngd_hbytypzcjyw0000gn/T/ipykernel_98227/3350034170.py:5: SettingWithCopyWarning: \n",
      "A value is trying to be set on a copy of a slice from a DataFrame.\n",
      "Try using .loc[row_indexer,col_indexer] = value instead\n",
      "\n",
      "See the caveats in the documentation: https://pandas.pydata.org/pandas-docs/stable/user_guide/indexing.html#returning-a-view-versus-a-copy\n",
      "  X['embarked'] = X['embarked'].map({'S': 0, 'C': 1, 'Q': 2})\n"
     ]
    },
    {
     "data": {
      "text/html": [
       "<div>\n",
       "<style scoped>\n",
       "    .dataframe tbody tr th:only-of-type {\n",
       "        vertical-align: middle;\n",
       "    }\n",
       "\n",
       "    .dataframe tbody tr th {\n",
       "        vertical-align: top;\n",
       "    }\n",
       "\n",
       "    .dataframe thead th {\n",
       "        text-align: right;\n",
       "    }\n",
       "</style>\n",
       "<table border=\"1\" class=\"dataframe\">\n",
       "  <thead>\n",
       "    <tr style=\"text-align: right;\">\n",
       "      <th></th>\n",
       "      <th>pclass</th>\n",
       "      <th>gender</th>\n",
       "      <th>family</th>\n",
       "      <th>embarked</th>\n",
       "    </tr>\n",
       "  </thead>\n",
       "  <tbody>\n",
       "    <tr>\n",
       "      <th>2</th>\n",
       "      <td>3</td>\n",
       "      <td>0</td>\n",
       "      <td>2.0</td>\n",
       "      <td>0</td>\n",
       "    </tr>\n",
       "    <tr>\n",
       "      <th>4</th>\n",
       "      <td>3</td>\n",
       "      <td>1</td>\n",
       "      <td>2.0</td>\n",
       "      <td>0</td>\n",
       "    </tr>\n",
       "    <tr>\n",
       "      <th>5</th>\n",
       "      <td>3</td>\n",
       "      <td>1</td>\n",
       "      <td>0.0</td>\n",
       "      <td>0</td>\n",
       "    </tr>\n",
       "    <tr>\n",
       "      <th>6</th>\n",
       "      <td>3</td>\n",
       "      <td>0</td>\n",
       "      <td>0.0</td>\n",
       "      <td>0</td>\n",
       "    </tr>\n",
       "    <tr>\n",
       "      <th>7</th>\n",
       "      <td>2</td>\n",
       "      <td>0</td>\n",
       "      <td>1.0</td>\n",
       "      <td>1</td>\n",
       "    </tr>\n",
       "  </tbody>\n",
       "</table>\n",
       "</div>"
      ],
      "text/plain": [
       "   pclass  gender  family  embarked\n",
       "2       3       0     2.0         0\n",
       "4       3       1     2.0         0\n",
       "5       3       1     0.0         0\n",
       "6       3       0     0.0         0\n",
       "7       2       0     1.0         1"
      ]
     },
     "execution_count": 12,
     "metadata": {},
     "output_type": "execute_result"
    }
   ],
   "source": [
    "X = df[['pclass', 'gender', 'family', 'embarked']]  # Features (all columns except the survived)\n",
    "y = df['survived']   # Target variable\n",
    "\n",
    "X['gender'] = X['gender'].map({'male': 0, 'female': 1})\n",
    "X['embarked'] = X['embarked'].map({'S': 0, 'C': 1, 'Q': 2})\n",
    "X.head()"
   ]
  },
  {
   "cell_type": "code",
   "execution_count": 13,
   "metadata": {},
   "outputs": [],
   "source": [
    "X_train, X_test, y_train, y_test = train_test_split(X, y, test_size=0.2, random_state=42)\n",
    "\n",
    "from OneRule import OneRuleClassifier\n",
    "from NaiveBayes import NaiveBayesClassifier\n",
    "from DecisionTree import DecisionTreeClassifier\n",
    "from KNN import KNNClassifier\n",
    "\n",
    "clfs = [(OneRuleClassifier(), '1R-my'), (NaiveBayesClassifier(), 'NB-my'), \n",
    "        (DecisionTreeClassifier(), 'DT-my'), (KNNClassifier(k=3, weights=False), 'KNN-my'), (CategoricalNB(), 'NB'), (DT(), 'DT'), (KNeighborsClassifier(n_neighbors=3, weights=None), 'KNN')]"
   ]
  },
  {
   "cell_type": "code",
   "execution_count": 14,
   "metadata": {},
   "outputs": [],
   "source": [
    "fit_times = []\n",
    "predict_times = []\n",
    "accuracies = []\n",
    "names = []"
   ]
  },
  {
   "cell_type": "code",
   "execution_count": 15,
   "metadata": {},
   "outputs": [
    {
     "name": "stdout",
     "output_type": "stream",
     "text": [
      "Model 1R-my | Accuracy: 0.8108 | Fit Time: 0.0007s | Predict Time: 0.0020s\n",
      "Model NB-my | Accuracy: 0.8263 | Fit Time: 0.0020s | Predict Time: 0.0034s\n",
      "Model DT-my | Accuracy: 0.8185 | Fit Time: 0.0507s | Predict Time: 0.0021s\n",
      "Model KNN-my | Accuracy: 0.7992 | Fit Time: 0.0000s | Predict Time: 4.9375s\n",
      "Model NB | Accuracy: 0.8263 | Fit Time: 0.0013s | Predict Time: 0.0004s\n",
      "Model DT | Accuracy: 0.8185 | Fit Time: 0.0007s | Predict Time: 0.0002s\n",
      "Model KNN | Accuracy: 0.7838 | Fit Time: 0.0005s | Predict Time: 0.0035s\n"
     ]
    }
   ],
   "source": [
    "for (clf, name) in clfs:\n",
    "    start_fit = time.time()\n",
    "    clf.fit(X_train, y_train)\n",
    "    end_fit = time.time()\n",
    "    \n",
    "    start_pred = time.time()\n",
    "    y_pred = clf.predict(X_test)\n",
    "    end_pred = time.time()\n",
    "    \n",
    "    accuracy1 = accuracy_score(np.array(y_test), np.array(y_pred))\n",
    "    \n",
    "    fit_times.append(end_fit - start_fit)\n",
    "    predict_times.append(end_pred - start_pred)\n",
    "    accuracies.append(accuracy1)\n",
    "    names.append(name)\n",
    "    \n",
    "    print(f\"Model {name} | Accuracy: {accuracy1:.4f} | Fit Time: {fit_times[-1]:.4f}s | Predict Time: {predict_times[-1]:.4f}s\")"
   ]
  },
  {
   "cell_type": "code",
   "execution_count": 16,
   "metadata": {},
   "outputs": [
    {
     "data": {
      "image/png": "[encoded data removed]",
      "text/plain": [
       "<Figure size 1500x500 with 3 Axes>"
      ]
     },
     "metadata": {},
     "output_type": "display_data"
    }
   ],
   "source": [
    "# Plotting fit and predict times\n",
    "plt.figure(figsize=(15, 5))\n",
    "\n",
    "plt.subplot(1, 3, 1)\n",
    "plt.bar(names, fit_times, color='blue')\n",
    "plt.xlabel(\"Models\")\n",
    "plt.ylabel(\"Fit Time (s)\")\n",
    "plt.title(\"Fit Time Comparison\")\n",
    "plt.xticks(rotation=45)\n",
    "plt.ylim(0, 0.009)\n",
    "\n",
    "plt.subplot(1, 3, 2)\n",
    "plt.bar(names, predict_times, color='green')\n",
    "plt.xlabel(\"Models\")\n",
    "plt.ylabel(\"Predict Time (s)\")\n",
    "plt.title(\"Predict Time Comparison\")\n",
    "plt.xticks(rotation=45)\n",
    "plt.ylim(0, 0.009)\n",
    "\n",
    "# Accuracy Plot\n",
    "plt.subplot(1, 3, 3)\n",
    "plt.bar(names, accuracies, color='orange')\n",
    "plt.xlabel(\"Models\")\n",
    "plt.ylabel(\"Accuracy\")\n",
    "plt.title(\"Model Accuracy\")\n",
    "plt.xticks(rotation=45)\n",
    "plt.ylim(0.75, 0.85)\n",
    "\n",
    "# plt.tight_layout()\n",
    "plt.show()"
   ]
  }
 ],
 "metadata": {
  "kernelspec": {
   "display_name": "Python 3",
   "language": "python",
   "name": "python3"
  },
  "language_info": {
   "codemirror_mode": {
    "name": "ipython",
    "version": 3
   },
   "file_extension": ".py",
   "mimetype": "text/x-python",
   "name": "python",
   "nbconvert_exporter": "python",
   "pygments_lexer": "ipython3",
   "version": "3.11.6"
  }
 },
 "nbformat": 4,
 "nbformat_minor": 2
}
